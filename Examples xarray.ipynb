{
 "cells": [
  {
   "cell_type": "markdown",
   "metadata": {},
   "source": [
    "The Xarray homepage is found here: http://xarray.pydata.org/"
   ]
  },
  {
   "cell_type": "code",
   "execution_count": 72,
   "metadata": {},
   "outputs": [],
   "source": [
    "import xarray as xr\n",
    "import numpy as np\n",
    "import datetime\n",
    "%matplotlib inline"
   ]
  },
  {
   "cell_type": "code",
   "execution_count": 4,
   "metadata": {},
   "outputs": [],
   "source": [
    "ds = xr.open_dataset('/Users/leo/Dropbox/education/SOAC/2017/SOAC_shared/data/Gomez/precip.2013.Gomez.nc')\n",
    "#ds.info()"
   ]
  },
  {
   "cell_type": "code",
   "execution_count": 10,
   "metadata": {},
   "outputs": [
    {
     "data": {
      "text/plain": [
       "<xarray.Dataset>\n",
       "Dimensions:    (month: 12)\n",
       "Coordinates:\n",
       "  * month      (month) int64 1 2 3 4 5 6 7 8 9 10 11 12\n",
       "Data variables:\n",
       "    time_bnds  (month) float64 2.303e+04 2.306e+04 2.309e+04 2.312e+04 ...\n",
       "    precip     (month) float64 0.1227 0.5273 0.4347 0.3978 0.1705 0.1424 ..."
      ]
     },
     "execution_count": 10,
     "metadata": {},
     "output_type": "execute_result"
    }
   ],
   "source": [
    "ds.groupby('time.month').mean()"
   ]
  },
  {
   "cell_type": "code",
   "execution_count": 5,
   "metadata": {},
   "outputs": [
    {
     "data": {
      "text/plain": [
       "<xarray.Dataset>\n",
       "Dimensions:    (bnds: 2, height: 1, lat: 1, lon: 1, time: 720)\n",
       "Coordinates:\n",
       "  * lon        (lon) float64 -70.0\n",
       "  * lat        (lat) float64 -74.0\n",
       "  * height     (height) float64 0.0\n",
       "  * time       (time) datetime64[ns] 2013-01-01 2013-01-01T03:00:00 ...\n",
       "Dimensions without coordinates: bnds\n",
       "Data variables:\n",
       "    time_bnds  (time, bnds) float64 ...\n",
       "    precip     (time, height, lat, lon) float32 ...\n",
       "Attributes:\n",
       "    CDI:           Climate Data Interface version 1.6.9 (http://mpimet.mpg.de...\n",
       "    history:       Fri Aug 28 12:01:45 2015: cdo remapnn,lon=-70.0/lat=-74.0 ...\n",
       "    source:        RACMO2\n",
       "    institution:   Royal Netherlands Meteorological Institute\n",
       "    Conventions:   CF-1.4\n",
       "    Domain:        PEN055\n",
       "    Experiment:    ERAIN_r507\n",
       "    CreationDate:  Tue Jan 20 12:08:37 2015\n",
       "    comment:       asim2cdf: cpar=precip, iwmo=61, ilvt=105, ilev=0, idh=3, i...\n",
       "    title:         Total Precipitative Flux\n",
       "    CDO:           Climate Data Operators version 1.6.9 (http://mpimet.mpg.de..."
      ]
     },
     "execution_count": 5,
     "metadata": {},
     "output_type": "execute_result"
    }
   ],
   "source": [
    "x = (ds['time.season'] == 'DJF').values\n",
    "#ix = np.where(x)[0]\n",
    "ix, = x.nonzero()\n",
    "#ixr = xr.DataArray(ix,dims='z')\n",
    "ds.isel(time=ix)"
   ]
  },
  {
   "cell_type": "code",
   "execution_count": 147,
   "metadata": {},
   "outputs": [
    {
     "data": {
      "text/plain": [
       "OrderedDict([('standard_name', 'precipitation_flux'),\n",
       "             ('long_name', 'Total Precipitative Flux'),\n",
       "             ('units', 'kg m-2 s-1'),\n",
       "             ('cell_methods', 'time: 3-hr averaged values')])"
      ]
     },
     "execution_count": 147,
     "metadata": {},
     "output_type": "execute_result"
    }
   ],
   "source": [
    "ds['precip'].shape #, 365*8\n",
    "ds['precip'].coords\n",
    "ds['precip'].dims\n",
    "ds['precip'].attrs\n",
    "#ds['precip'].name\n",
    "#type(ds['precip'].values)\n"
   ]
  },
  {
   "cell_type": "code",
   "execution_count": 148,
   "metadata": {},
   "outputs": [],
   "source": [
    "ds2 = ds.copy()"
   ]
  },
  {
   "cell_type": "code",
   "execution_count": 74,
   "metadata": {},
   "outputs": [
    {
     "data": {
      "text/plain": [
       "array([[[ 0.71875]]])"
      ]
     },
     "execution_count": 74,
     "metadata": {},
     "output_type": "execute_result"
    }
   ],
   "source": [
    "ds3 = ds+ds2\n",
    "ds3['precip'].values[0]\n",
    "ds['precip'].values[0]"
   ]
  },
  {
   "cell_type": "code",
   "execution_count": 77,
   "metadata": {},
   "outputs": [
    {
     "data": {
      "text/plain": [
       "<xarray.DataArray 'precip' ()>\n",
       "array(0.23037213446342783)"
      ]
     },
     "execution_count": 77,
     "metadata": {},
     "output_type": "execute_result"
    }
   ],
   "source": [
    "ds['precip'].mean()\n",
    "#ds['precip'].sum()"
   ]
  },
  {
   "cell_type": "code",
   "execution_count": 150,
   "metadata": {},
   "outputs": [
    {
     "data": {
      "text/plain": [
       "<xarray.DataArray 'precip' ()>\n",
       "array(30.4357967376709)"
      ]
     },
     "execution_count": 150,
     "metadata": {},
     "output_type": "execute_result"
    }
   ],
   "source": [
    "ds['precip'].loc['2013-01'].sum()"
   ]
  },
  {
   "cell_type": "code",
   "execution_count": 155,
   "metadata": {},
   "outputs": [
    {
     "data": {
      "text/plain": [
       "<xarray.DataArray 'precip' (season: 4)>\n",
       "array([ 153.572581,  146.586964,  245.563419,  126.963669])\n",
       "Coordinates:\n",
       "  * season   (season) object 'DJF' 'JJA' 'MAM' 'SON'"
      ]
     },
     "execution_count": 155,
     "metadata": {},
     "output_type": "execute_result"
    }
   ],
   "source": [
    "ds['time.month']\n",
    "#ds['precip'].loc[ds['time.month']==2]\n",
    "#ds['precip'].groupby(ds['time.month']).sum()\n",
    "#ds['time.season']\n",
    "ds['precip'].groupby(ds['time.season']).sum()\n",
    "ds['precip'].sel(time=slice('2013-01-10','2013-01-12'))"
   ]
  },
  {
   "cell_type": "code",
   "execution_count": 113,
   "metadata": {
    "collapsed": true
   },
   "outputs": [],
   "source": [
    "ds.to_netcdf('/Users/leo/test.nc','w')"
   ]
  },
  {
   "cell_type": "markdown",
   "metadata": {},
   "source": [
    "# Missing values"
   ]
  },
  {
   "cell_type": "code",
   "execution_count": 110,
   "metadata": {},
   "outputs": [],
   "source": [
    "ds=xr.open_dataset('/Users/leo/extern/tsoi_ice.nc')"
   ]
  },
  {
   "cell_type": "code",
   "execution_count": 116,
   "metadata": {},
   "outputs": [
    {
     "data": {
      "text/plain": [
       "((1, 25, 192, 288), ('time', 'levgrnd', 'lat', 'lon'))"
      ]
     },
     "execution_count": 116,
     "metadata": {},
     "output_type": "execute_result"
    }
   ],
   "source": [
    "ds['TSOI_ICE'].shape, ds['TSOI_ICE'].dims"
   ]
  },
  {
   "cell_type": "code",
   "execution_count": 124,
   "metadata": {},
   "outputs": [
    {
     "data": {
      "text/plain": [
       "<xarray.DataArray 'TSOI_ICE' (time: 1, levgrnd: 25, lat: 192, lon: 288)>\n",
       "array([[[[ 222.967453, ...,  222.972122],\n",
       "         ..., \n",
       "         [        nan, ...,         nan]],\n",
       "\n",
       "        ..., \n",
       "        [[ 222.804108, ...,  222.810654],\n",
       "         ..., \n",
       "         [        nan, ...,         nan]]]])\n",
       "Coordinates:\n",
       "  * lat      (lat) float64 -90.0 -89.06 -88.12 -87.17 -86.23 -85.29 -84.35 ...\n",
       "  * levgrnd  (levgrnd) float32 0.01 0.04 0.09 0.16 0.26 0.4 0.58 0.8 1.06 ...\n",
       "  * lon      (lon) float64 0.0 1.25 2.5 3.75 5.0 6.25 7.5 8.75 10.0 11.25 ...\n",
       "  * time     (time) datetime64[ns] 1870-08-01\n",
       "Attributes:\n",
       "    long_name: soil temperature (ice landunits only)\n",
       "    units: K\n",
       "    cell_methods: time: mean"
      ]
     },
     "execution_count": 124,
     "metadata": {},
     "output_type": "execute_result"
    }
   ],
   "source": [
    "ds['TSOI_ICE'][0:10]"
   ]
  },
  {
   "cell_type": "code",
   "execution_count": 125,
   "metadata": {},
   "outputs": [
    {
     "data": {
      "text/plain": [
       "<xarray.DataArray 'TSOI_ICE' ()>\n",
       "array(175550)"
      ]
     },
     "execution_count": 125,
     "metadata": {},
     "output_type": "execute_result"
    }
   ],
   "source": [
    "#ds['TSOI_ICE'].isnull().sum()\n",
    "ds['TSOI_ICE'].notnull().sum()"
   ]
  },
  {
   "cell_type": "code",
   "execution_count": 128,
   "metadata": {},
   "outputs": [],
   "source": [
    "climatology = ds.groupby('time.month').mean('time')"
   ]
  },
  {
   "cell_type": "code",
   "execution_count": 137,
   "metadata": {},
   "outputs": [
    {
     "data": {
      "text/plain": [
       "<xarray.Dataset>\n",
       "Dimensions:      (hist_interval: 2, levgrnd: 25, month: 1)\n",
       "Coordinates:\n",
       "    lat          float64 -88.12\n",
       "  * levgrnd      (levgrnd) float32 0.01 0.04 0.09 0.16 0.26 0.4 0.58 0.8 ...\n",
       "    lon          float64 0.0\n",
       "  * month        (month) int64 8\n",
       "Dimensions without coordinates: hist_interval\n",
       "Data variables:\n",
       "    TSOI_ICE     (month, levgrnd) float64 223.8 223.8 223.8 223.8 223.8 ...\n",
       "    time_bounds  (month, hist_interval) float64 181.0 212.0"
      ]
     },
     "execution_count": 137,
     "metadata": {},
     "output_type": "execute_result"
    }
   ],
   "source": [
    "climatology.isel(lon=0,lat=2)"
   ]
  },
  {
   "cell_type": "markdown",
   "metadata": {
    "collapsed": true
   },
   "source": [
    "\n",
    "# Links\n",
    "Also see this page: http://xarray.pydata.org/en/stable/io.html#scaling-and-type-conversions\n",
    "\n",
    "there you read that you can change the FillValue by passing an encoding dict:\n",
    "\n",
    "    _FillValue: Values of NaN in xarray variables are remapped to this value when saved on disk. This is important when converting floating point with missing values to integers on disk, because NaN is not a valid value for integer dtypes. As a default, variables with float types are attributed a _FillValue of NaN in the output file, unless explicitly disabled with an encoding {'_FillValue': None}.\n",
    "\n"
   ]
  },
  {
   "cell_type": "markdown",
   "metadata": {},
   "source": [
    "# Seasonal sums per year"
   ]
  },
  {
   "cell_type": "code",
   "execution_count": 53,
   "metadata": {},
   "outputs": [
    {
     "data": {
      "text/plain": [
       "<xarray.DataArray 'SNOW' (time: 240, lndgrid: 48602)>\n",
       "[11664480 values with dtype=float32]\n",
       "Coordinates:\n",
       "  * time     (time) datetime64[ns] 1980-02-01 1980-03-01 1980-04-01 ...\n",
       "Dimensions without coordinates: lndgrid\n",
       "Attributes:\n",
       "    long_name:     atmospheric snow, after rain/snow repartitioning based on ...\n",
       "    units:         mm/s\n",
       "    cell_methods:  time: mean"
      ]
     },
     "execution_count": 53,
     "metadata": {},
     "output_type": "execute_result"
    }
   ],
   "source": [
    "ds = xr.open_dataset(\"/Users/leo/workspace/sandbox/SNOW_c2b8_UNI_fdm.003_moncat.nc\")\n",
    "len(ds['time']) # 20 years of monthly data = 240\n",
    "ds['SNOW']"
   ]
  },
  {
   "cell_type": "code",
   "execution_count": 25,
   "metadata": {},
   "outputs": [
    {
     "data": {
      "text/plain": [
       "<xarray.DataArray 'SNOW' (season: 4)>\n",
       "array([ 4.776142,  2.025796,  4.546184,  2.347533])\n",
       "Coordinates:\n",
       "  * season   (season) object 'DJF' 'JJA' 'MAM' 'SON'"
      ]
     },
     "execution_count": 25,
     "metadata": {},
     "output_type": "execute_result"
    }
   ],
   "source": [
    "ds['SNOW'].groupby('time.season').sum()"
   ]
  },
  {
   "cell_type": "code",
   "execution_count": 33,
   "metadata": {},
   "outputs": [
    {
     "data": {
      "text/plain": [
       "<xarray.DataArray 'time' (time: 240)>\n",
       "array(['1980-01-28T00:00:00.000000000', '1980-02-26T00:00:00.000000000',\n",
       "       '1980-03-28T00:00:00.000000000', ..., '1999-10-28T00:00:00.000000000',\n",
       "       '1999-11-27T00:00:00.000000000', '1999-12-28T00:00:00.000000000'], dtype='datetime64[ns]')\n",
       "Coordinates:\n",
       "  * time     (time) datetime64[ns] 1980-01-28 1980-02-26 1980-03-28 ...\n",
       "Attributes:\n",
       "    standard_name:  time\n",
       "    long_name:      time\n",
       "    bounds:         time_bnds\n",
       "    axis:           T"
      ]
     },
     "execution_count": 33,
     "metadata": {},
     "output_type": "execute_result"
    }
   ],
   "source": [
    "# WORKAROUND: apply time shift of 2 days forward \n",
    "ds['time'] -= np.timedelta64(2,'D')\n",
    "ds['time']"
   ]
  },
  {
   "cell_type": "code",
   "execution_count": 38,
   "metadata": {},
   "outputs": [
    {
     "data": {
      "text/plain": [
       "<xarray.DataArray 'SNOW' (year: 20)>\n",
       "array([ 0.676176,  0.686775,  0.65712 ,  0.673328,  0.68787 ,  0.692679,\n",
       "        0.700808,  0.696297,  0.695693,  0.687815,  0.685581,  0.690583,\n",
       "        0.657867,  0.669833,  0.677449,  0.693511,  0.69339 ,  0.676221,\n",
       "        0.706451,  0.691047])\n",
       "Coordinates:\n",
       "  * year     (year) int64 1980 1981 1982 1983 1984 1985 1986 1987 1988 1989 ..."
      ]
     },
     "execution_count": 38,
     "metadata": {},
     "output_type": "execute_result"
    }
   ],
   "source": [
    "ds['SNOW'].groupby('time.year','time.DJF').sum()"
   ]
  },
  {
   "cell_type": "code",
   "execution_count": 58,
   "metadata": {},
   "outputs": [
    {
     "data": {
      "text/plain": [
       "<xarray.DataArray 'month' (time: 81)>\n",
       "array([ 2,  5,  8, 11,  2,  5,  8, 11,  2,  5,  8, 11,  2,  5,  8, 11,  2,  5,\n",
       "        8, 11,  2,  5,  8, 11,  2,  5,  8, 11,  2,  5,  8, 11,  2,  5,  8, 11,\n",
       "        2,  5,  8, 11,  2,  5,  8, 11,  2,  5,  8, 11,  2,  5,  8, 11,  2,  5,\n",
       "        8, 11,  2,  5,  8, 11,  2,  5,  8, 11,  2,  5,  8, 11,  2,  5,  8, 11,\n",
       "        2,  5,  8, 11,  2,  5,  8, 11,  2])\n",
       "Coordinates:\n",
       "  * time     (time) datetime64[ns] 1980-02-29 1980-05-31 1980-08-31 ..."
      ]
     },
     "execution_count": 58,
     "metadata": {},
     "output_type": "execute_result"
    }
   ],
   "source": [
    "foo = ds.resample(time='Q-FEB').mean('time.year')\n",
    "foo['time.month']"
   ]
  },
  {
   "cell_type": "code",
   "execution_count": 55,
   "metadata": {},
   "outputs": [
    {
     "data": {
      "text/plain": [
       "<xarray.Dataset>\n",
       "Dimensions:    (bnds: 2, lndgrid: 48602, time: 21)\n",
       "Coordinates:\n",
       "  * time       (time) datetime64[ns] 1980-02-29 1981-02-28 1982-02-28 ...\n",
       "Dimensions without coordinates: bnds, lndgrid\n",
       "Data variables:\n",
       "    time_bnds  (time, bnds) float64 -0.02083 31.0 334.3 365.0 699.3 730.0 ...\n",
       "    SNOW       (time, lndgrid) float32 nan nan nan nan nan nan nan nan nan ..."
      ]
     },
     "execution_count": 55,
     "metadata": {},
     "output_type": "execute_result"
    }
   ],
   "source": [
    "foo.sel(time=foo['time.month'] == 2)"
   ]
  }
 ],
 "metadata": {
  "kernelspec": {
   "display_name": "Python 3",
   "language": "python",
   "name": "python3"
  },
  "language_info": {
   "codemirror_mode": {
    "name": "ipython",
    "version": 3
   },
   "file_extension": ".py",
   "mimetype": "text/x-python",
   "name": "python",
   "nbconvert_exporter": "python",
   "pygments_lexer": "ipython3",
   "version": "3.6.4"
  }
 },
 "nbformat": 4,
 "nbformat_minor": 2
}
